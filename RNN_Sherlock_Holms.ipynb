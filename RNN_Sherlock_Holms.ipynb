{
  "cells": [
    {
      "cell_type": "markdown",
      "metadata": {
        "id": "view-in-github",
        "colab_type": "text"
      },
      "source": [
        "<a href=\"https://colab.research.google.com/github/Madushanka-Ranaweera/RNN-Sherlock-Holms/blob/main/RNN_Sherlock_Holms.ipynb\" target=\"_parent\"><img src=\"https://colab.research.google.com/assets/colab-badge.svg\" alt=\"Open In Colab\"/></a>"
      ]
    },
    {
      "cell_type": "code",
      "execution_count": null,
      "metadata": {
        "colab": {
          "base_uri": "https://localhost:8080/"
        },
        "id": "w34qCgCoUxCd",
        "outputId": "4b5962ef-e372-46f3-8adc-0ecf4bdc6774"
      },
      "outputs": [
        {
          "output_type": "stream",
          "name": "stdout",
          "text": [
            "Drive already mounted at /content/drive; to attempt to forcibly remount, call drive.mount(\"/content/drive\", force_remount=True).\n"
          ]
        }
      ],
      "source": [
        "from google.colab import drive\n",
        "drive.mount('/content/drive')"
      ]
    },
    {
      "cell_type": "code",
      "execution_count": null,
      "metadata": {
        "id": "6GgSgoEgWRcs"
      },
      "outputs": [],
      "source": [
        "# Load the tensorflow notebook extension\n",
        "%load_ext tensorboard"
      ]
    },
    {
      "cell_type": "code",
      "execution_count": null,
      "metadata": {
        "id": "4KzuFXHGWo1M"
      },
      "outputs": [],
      "source": [
        "import os\n",
        "import datetime\n",
        "import numpy as np\n",
        "import tensorflow as tf\n",
        "from tensorflow.keras.layers import Dense,Flatten"
      ]
    },
    {
      "cell_type": "code",
      "execution_count": null,
      "metadata": {
        "id": "TPp2o7b_W70z"
      },
      "outputs": [],
      "source": [
        "datafile = r'/content/drive/MyDrive/Classroom/The Adventures of Sherlock Holmes.txt'"
      ]
    },
    {
      "cell_type": "code",
      "execution_count": null,
      "metadata": {
        "colab": {
          "base_uri": "https://localhost:8080/"
        },
        "id": "3X26lcZwXCNA",
        "outputId": "2babd8aa-05aa-4589-ea4c-ed38237626f6"
      },
      "outputs": [
        {
          "output_type": "stream",
          "name": "stdout",
          "text": [
            "Book,, contains a total of 593834 characters\n"
          ]
        }
      ],
      "source": [
        "text = open(datafile,'rb').read().decode(encoding='utf-8')\n",
        "print('Book,, contains a total of {} characters'.format(len(text)))"
      ]
    },
    {
      "cell_type": "code",
      "execution_count": null,
      "metadata": {
        "colab": {
          "base_uri": "https://localhost:8080/"
        },
        "id": "ZTFwvCulXi4c",
        "outputId": "f7890a2d-9932-4426-f101-3a0288ea1f3e"
      },
      "outputs": [
        {
          "output_type": "stream",
          "name": "stdout",
          "text": [
            "\n",
            "\r\n",
            "I. A SCANDAL IN BOHEMIA\r\n",
            "\r\n",
            "\r\n",
            "I.\r\n",
            "\r\n",
            "To Sherlock Holmes she is always _the_ woman. I have seldom heard him\r\n",
            "mention her under any other name. In his eyes she eclipses and\r\n",
            "predominates the whole of h\n"
          ]
        }
      ],
      "source": [
        "print(text[1500:1700])"
      ]
    },
    {
      "cell_type": "code",
      "execution_count": null,
      "metadata": {
        "id": "ejs7cefSXuau"
      },
      "outputs": [],
      "source": [
        "# Removing the meta data text from out text file\n",
        "text = text[1500:]"
      ]
    },
    {
      "cell_type": "code",
      "execution_count": null,
      "metadata": {
        "colab": {
          "base_uri": "https://localhost:8080/"
        },
        "id": "TsJDflqxX_KU",
        "outputId": "ba7de5e6-89e3-4b26-b678-bdc14e7d42c0"
      },
      "outputs": [
        {
          "output_type": "stream",
          "name": "stdout",
          "text": [
            "95 unique characters\n"
          ]
        }
      ],
      "source": [
        "# Counting unique characters (vocab size)\n",
        "vocab = sorted(set(text))\n",
        "print('{} unique characters'.format(len(vocab)))"
      ]
    },
    {
      "cell_type": "code",
      "execution_count": null,
      "metadata": {
        "id": "zV9WTt_WYHLB"
      },
      "outputs": [],
      "source": [
        "char2int = {u:i for i,u in enumerate(vocab)}\n",
        "int2char = np.array(vocab)\n",
        "\n",
        "text_as_int = np.array([char2int[c] for c in text])"
      ]
    },
    {
      "cell_type": "code",
      "execution_count": null,
      "metadata": {
        "colab": {
          "base_uri": "https://localhost:8080/"
        },
        "id": "dRUIFoqDYpsS",
        "outputId": "cf5b9f7f-5777-4293-e170-0701c6320e75"
      },
      "outputs": [
        {
          "output_type": "stream",
          "name": "stdout",
          "text": [
            "{\n",
            "'\\n' :   0,\n",
            "'\\r' :   1,\n",
            "' '  :   2,\n",
            "'!'  :   3,\n",
            "'\"'  :   4,\n",
            "'$'  :   5,\n",
            "'%'  :   6,\n",
            "'&'  :   7,\n",
            "\"'\"  :   8,\n",
            "'('  :   9,\n",
            "...\n",
            "}\n"
          ]
        }
      ],
      "source": [
        "print(\"{\")\n",
        "for char,_ in zip(char2int,range(10)):\n",
        "  print('{:4s} : {:3d},'.format(repr(char),char2int[char]))\n",
        "print('...\\n}')"
      ]
    },
    {
      "cell_type": "code",
      "execution_count": null,
      "metadata": {
        "colab": {
          "base_uri": "https://localhost:8080/"
        },
        "id": "CWvcG0QBZo_u",
        "outputId": "e25cd9ec-6cd7-425c-9f77-64d9ff101147"
      },
      "outputs": [
        {
          "output_type": "stream",
          "name": "stdout",
          "text": [
            "' Sherlock Holmes she is always' --- char-2-int --- [ 2 47 63 60 73 67 70 58 66  2 36 70 67 68 60 74  2 74 63 60  2 64 74  2\n",
            " 56 67 78 56 80 74]\n"
          ]
        }
      ],
      "source": [
        "print('{} --- char-2-int --- {}'.format(repr(text[40:70]),text_as_int[40:70]))"
      ]
    },
    {
      "cell_type": "code",
      "execution_count": null,
      "metadata": {
        "colab": {
          "base_uri": "https://localhost:8080/"
        },
        "id": "6zTC_xPIaLCN",
        "outputId": "6fa8bf9a-b220-4775-90aa-d31756ff12eb"
      },
      "outputs": [
        {
          "output_type": "stream",
          "name": "stdout",
          "text": [
            "\n",
            "\n",
            "\r\n",
            "\n",
            "\n",
            "I\n",
            ".\n",
            " \n",
            "A\n",
            " \n",
            "S\n",
            "C\n",
            "A\n",
            "N\n",
            "D\n",
            "A\n",
            "L\n",
            " \n",
            "I\n",
            "N\n",
            " \n",
            "B\n"
          ]
        }
      ],
      "source": [
        "# The maximum length sentence we want for a single input in characters\n",
        "seq_len = 100\n",
        "examples_per_epoch = len(text)//(seq_len + 1)\n",
        "\n",
        "# Create training examples / targets\n",
        "char_data = tf.data.Dataset.from_tensor_slices(text_as_int)\n",
        "\n",
        "for i in char_data.take(20):\n",
        "  print(int2char[i.numpy()])\n"
      ]
    },
    {
      "cell_type": "code",
      "execution_count": null,
      "metadata": {
        "colab": {
          "base_uri": "https://localhost:8080/"
        },
        "id": "bgyWrHKrdP6t",
        "outputId": "90a1f8aa-d667-41ca-a9a8-430d4b5d4c33"
      },
      "outputs": [
        {
          "output_type": "stream",
          "name": "stdout",
          "text": [
            "'\\n\\r\\nI. A SCANDAL IN BOHEMIA\\r\\n\\r\\n\\r\\nI.\\r\\n\\r\\nTo Sherlock Holmes she is always _the_ woman. I have seldom hea'\n",
            "______________________________________________________________________________________________________________\n",
            "'rd him\\r\\nmention her under any other name. In his eyes she eclipses and\\r\\npredominates the whole of her'\n",
            "______________________________________________________________________________________________________________\n",
            "' sex. It was not that he felt any emotion\\r\\nakin to love for Irene Adler. All emotions, and that one p'\n",
            "______________________________________________________________________________________________________________\n",
            "'articularly,\\r\\nwere abhorrent to his cold, precise but admirably balanced mind. He\\r\\nwas, I take it, th'\n",
            "______________________________________________________________________________________________________________\n",
            "'e most perfect reasoning and observing machine that\\r\\nthe world has seen, but as a lover he would have'\n",
            "______________________________________________________________________________________________________________\n",
            "' placed himself in a\\r\\nfalse position. He never spoke of the softer passions, save with a gibe\\r\\nand a '\n",
            "______________________________________________________________________________________________________________\n",
            "'sneer. They were admirable things for the observer—excellent for\\r\\ndrawing the veil from men’s motives'\n",
            "______________________________________________________________________________________________________________\n",
            "' and actions. But for the trained\\r\\nreasoner to admit such intrusions into his own delicate and finely'\n",
            "______________________________________________________________________________________________________________\n",
            "'\\r\\nadjusted temperament was to introduce a distracting factor which might\\r\\nthrow a doubt upon all his '\n",
            "______________________________________________________________________________________________________________\n",
            "'mental results. Grit in a sensitive\\r\\ninstrument, or a crack in one of his own high-power lenses, woul'\n",
            "______________________________________________________________________________________________________________\n"
          ]
        }
      ],
      "source": [
        "sequence = char_data.batch(seq_len + 1, drop_remainder=True)\n",
        "\n",
        "for item in sequence.take(10):\n",
        "  print(repr(''.join(int2char[item.numpy()])))\n",
        "  print('_'*110)"
      ]
    },
    {
      "cell_type": "code",
      "execution_count": null,
      "metadata": {
        "id": "c8oTtbh9d1kw"
      },
      "outputs": [],
      "source": [
        "def split_input_target(chunk):\n",
        "\n",
        "\n",
        "  input_text = chunk[:-1]\n",
        "  target_text = chunk[1:]\n",
        "  return input_text,target_text\n",
        "\n",
        "dataset = sequence.map(split_input_target)"
      ]
    },
    {
      "cell_type": "code",
      "execution_count": null,
      "metadata": {
        "colab": {
          "base_uri": "https://localhost:8080/"
        },
        "id": "QNAqNbb0eajP",
        "outputId": "ccfd86f1-61ea-4ea7-c969-c6f954e9de19"
      },
      "outputs": [
        {
          "output_type": "stream",
          "name": "stdout",
          "text": [
            "Input data: '\\n\\r\\nI. A SCANDAL IN BOHEMIA\\r\\n\\r\\n\\r\\nI.\\r\\n\\r\\nTo Sherlock Holmes she is always _the_ woman. I have seldom he'\n",
            "Target data: '\\r\\nI. A SCANDAL IN BOHEMIA\\r\\n\\r\\n\\r\\nI.\\r\\n\\r\\nTo Sherlock Holmes she is always _the_ woman. I have seldom hea'\n"
          ]
        }
      ],
      "source": [
        "for input_example, target_example in dataset.take(1):\n",
        "  print('Input data:',repr(''.join(int2char[input_example.numpy()])))\n",
        "  print('Target data:',repr(''.join(int2char[target_example.numpy()])))"
      ]
    },
    {
      "cell_type": "code",
      "execution_count": null,
      "metadata": {
        "id": "41AAaLTVe-i_"
      },
      "outputs": [],
      "source": [
        "# Batch size\n",
        "Batch_size = 64\n",
        "\n",
        "# Buffer size to shuffle the dataset\n",
        "Buffer_size = 10000"
      ]
    },
    {
      "cell_type": "code",
      "execution_count": null,
      "metadata": {
        "colab": {
          "base_uri": "https://localhost:8080/"
        },
        "id": "FszvzH9zfS3u",
        "outputId": "10263210-a166-4419-9d14-02f206b48fbb"
      },
      "outputs": [
        {
          "output_type": "stream",
          "name": "stdout",
          "text": [
            "Dataset Shape = <BatchDataset element_spec=(TensorSpec(shape=(64, 100), dtype=tf.int64, name=None), TensorSpec(shape=(64, 100), dtype=tf.int64, name=None))>\n"
          ]
        }
      ],
      "source": [
        "dataset = dataset.shuffle(Buffer_size).batch(Batch_size,drop_remainder=True)\n",
        "print(\"Dataset Shape = {}\".format(dataset))"
      ]
    },
    {
      "cell_type": "code",
      "execution_count": null,
      "metadata": {
        "id": "2l8LvaFnfkLu"
      },
      "outputs": [],
      "source": [
        "def build_model(vocab_size,embedding_dim,rnn_units,batch_size):\n",
        "  model = tf.keras.Sequential([\n",
        "      tf.keras.layers.Embedding(vocab_size,\n",
        "                                embedding_dim,\n",
        "                                batch_input_shape=[batch_size,None]),\n",
        "      tf.keras.layers.GRU(rnn_units,\n",
        "                          return_sequences=True,\n",
        "                          stateful=True,\n",
        "                          recurrent_initializer='glorot_uniform'),\n",
        "      tf.keras.layers.Dense(vocab_size)\n",
        "    \n",
        "  ])\n",
        "  return model\n"
      ]
    },
    {
      "cell_type": "code",
      "execution_count": null,
      "metadata": {
        "id": "LJ5_LS0WVCPx"
      },
      "outputs": [],
      "source": [
        "# Length of vocabulary in chars\n",
        "vocab_size = len(vocab)\n",
        "\n",
        "# The Embedding dimension\n",
        "embedding_dim = 256\n",
        "\n",
        "# Number of RNN units\n",
        "rnn_units = 1024\n"
      ]
    },
    {
      "cell_type": "code",
      "execution_count": null,
      "metadata": {
        "id": "X0xAnQ4hVImx"
      },
      "outputs": [],
      "source": [
        "model = build_model(\n",
        "    vocab_size=len(vocab),\n",
        "    embedding_dim=embedding_dim,\n",
        "    rnn_units=rnn_units,\n",
        "    batch_size=Batch_size\n",
        ")"
      ]
    },
    {
      "cell_type": "code",
      "execution_count": null,
      "metadata": {
        "colab": {
          "base_uri": "https://localhost:8080/"
        },
        "id": "CbyHVt0dV0oo",
        "outputId": "5bfdaadc-3a4c-479b-bcce-7d6ba88450f3"
      },
      "outputs": [
        {
          "output_type": "stream",
          "name": "stdout",
          "text": [
            "Model: \"sequential\"\n",
            "_________________________________________________________________\n",
            " Layer (type)                Output Shape              Param #   \n",
            "=================================================================\n",
            " embedding (Embedding)       (64, None, 256)           24320     \n",
            "                                                                 \n",
            " gru (GRU)                   (64, None, 1024)          3938304   \n",
            "                                                                 \n",
            " dense (Dense)               (64, None, 95)            97375     \n",
            "                                                                 \n",
            "=================================================================\n",
            "Total params: 4,059,999\n",
            "Trainable params: 4,059,999\n",
            "Non-trainable params: 0\n",
            "_________________________________________________________________\n"
          ]
        }
      ],
      "source": [
        "model.summary()"
      ]
    },
    {
      "cell_type": "code",
      "execution_count": null,
      "metadata": {
        "id": "qIyPyuDWV6dB"
      },
      "outputs": [],
      "source": [
        "def loss(labels,logits):\n",
        "  return tf.keras.losses.sparse_categorical_crossentropy(label,logits,from_logits=True)"
      ]
    },
    {
      "cell_type": "code",
      "execution_count": null,
      "metadata": {
        "id": "-8oWwpX-WQIN"
      },
      "outputs": [],
      "source": [
        "model.compile(optimizer='adam', loss=tf.keras.losses.SparseCategoricalCrossentropy(from_logits=True) )"
      ]
    },
    {
      "cell_type": "code",
      "execution_count": null,
      "metadata": {
        "id": "cTn3xOZ8WgMw"
      },
      "outputs": [],
      "source": [
        "checkpoint_dir = r'data/training_checkpoint'\n",
        "\n",
        "checkpoint_prefix = os.path.join(checkpoint_dir, 'ckpt_{epoch}')\n",
        "\n",
        "checkpoint_callback = tf.keras.callbacks.ModelCheckpoint(\n",
        "    filepath = checkpoint_prefix,\n",
        "    save_weights_only = True)\n"
      ]
    },
    {
      "cell_type": "code",
      "execution_count": null,
      "metadata": {
        "id": "qL1KBvLbXUx6"
      },
      "outputs": [],
      "source": [
        "logdir = os.path.join('logs', datetime.datetime.now().strftime(\"%Y%m%d-%H%M%S\"))\n",
        "tensorboard_callback = tf.keras.callbacks.TensorBoard(logdir,histogram_freq=1)"
      ]
    },
    {
      "cell_type": "code",
      "execution_count": null,
      "metadata": {
        "colab": {
          "base_uri": "https://localhost:8080/"
        },
        "id": "uGjKQu9tdOGO",
        "outputId": "bd419d0d-36f5-461e-b89b-2ba3183f49c5"
      },
      "outputs": [
        {
          "output_type": "stream",
          "name": "stdout",
          "text": [
            "Epoch 1/5\n",
            "91/91 [==============================] - 474s 5s/step - loss: 2.9442\n",
            "Epoch 2/5\n",
            "91/91 [==============================] - 459s 5s/step - loss: 2.1955\n",
            "Epoch 3/5\n",
            "91/91 [==============================] - 458s 5s/step - loss: 1.9642\n",
            "Epoch 4/5\n",
            "91/91 [==============================] - 460s 5s/step - loss: 1.7841\n",
            "Epoch 5/5\n",
            "91/91 [==============================] - 463s 5s/step - loss: 1.6379\n"
          ]
        }
      ],
      "source": [
        "history = model.fit(dataset,epochs=5,callbacks=[checkpoint_callback,tensorboard_callback])"
      ]
    },
    {
      "cell_type": "code",
      "execution_count": null,
      "metadata": {
        "id": "wm1oGWoAkOKa",
        "colab": {
          "base_uri": "https://localhost:8080/",
          "height": 285
        },
        "outputId": "79305dd0-c759-44cc-ef7a-6d44ea168564"
      },
      "outputs": [
        {
          "output_type": "execute_result",
          "data": {
            "text/plain": [
              "[<matplotlib.lines.Line2D at 0x7fcd03ded550>]"
            ]
          },
          "metadata": {},
          "execution_count": 28
        },
        {
          "output_type": "display_data",
          "data": {
            "text/plain": [
              "<Figure size 432x288 with 1 Axes>"
            ],
            "image/png": "[encoded data removed]"
          },
          "metadata": {
            "needs_background": "light"
          }
        }
      ],
      "source": [
        "import matplotlib.pyplot as plt\n",
        "\n",
        "#graphs shows drop of loss function for our dataset\n",
        "plt.plot(history.history['loss'])"
      ]
    },
    {
      "cell_type": "code",
      "execution_count": null,
      "metadata": {
        "id": "v5gpNjv3d1VO",
        "colab": {
          "base_uri": "https://localhost:8080/",
          "height": 165
        },
        "outputId": "839569b4-e8b8-41f5-fc19-56075ec5b701"
      },
      "outputs": [
        {
          "output_type": "error",
          "ename": "KeyError",
          "evalue": "ignored",
          "traceback": [
            "\u001b[0;31m---------------------------------------------------------------------------\u001b[0m",
            "\u001b[0;31mKeyError\u001b[0m                                  Traceback (most recent call last)",
            "\u001b[0;32m<ipython-input-29-79f47eec5e4f>\u001b[0m in \u001b[0;36m<module>\u001b[0;34m\u001b[0m\n\u001b[0;32m----> 1\u001b[0;31m \u001b[0mplt\u001b[0m\u001b[0;34m.\u001b[0m\u001b[0mplot\u001b[0m\u001b[0;34m(\u001b[0m\u001b[0mhistory\u001b[0m\u001b[0;34m.\u001b[0m\u001b[0mhistory\u001b[0m\u001b[0;34m[\u001b[0m\u001b[0;34m'accuracy'\u001b[0m\u001b[0;34m]\u001b[0m\u001b[0;34m)\u001b[0m\u001b[0;34m\u001b[0m\u001b[0;34m\u001b[0m\u001b[0m\n\u001b[0m",
            "\u001b[0;31mKeyError\u001b[0m: 'accuracy'"
          ]
        }
      ],
      "source": [
        "plt.plot(history.history['accuracy'])"
      ]
    }
  ],
  "metadata": {
    "colab": {
      "provenance": [],
      "mount_file_id": "14Qvt5TwNC0htPM_sWsN-BZU7FbeLQOM4",
      "authorship_tag": "ABX9TyNjwV/gyMvfT2iTExWzKnw2",
      "include_colab_link": true
    },
    "kernelspec": {
      "display_name": "Python 3",
      "name": "python3"
    },
    "language_info": {
      "name": "python"
    }
  },
  "nbformat": 4,
  "nbformat_minor": 0
}